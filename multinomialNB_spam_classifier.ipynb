{
 "cells": [
  {
   "cell_type": "code",
   "execution_count": 1,
   "metadata": {},
   "outputs": [],
   "source": [
    "# importing libraries\n",
    "import pandas as pd\n",
    "import numpy as np\n",
    "import matplotlib.pyplot as plt"
   ]
  },
  {
   "cell_type": "code",
   "execution_count": 20,
   "metadata": {},
   "outputs": [
    {
     "name": "stdout",
     "output_type": "stream",
     "text": [
      "dimensions of the training features dataset: (700, 2500)\n",
      "no. of emails in the training features = no. of emails in the training labels? True\n",
      "dimensions of the test features dataset: (260, 2500)\n",
      "no. of emails in the test features = no. of emails in the test labels? True\n"
     ]
    }
   ],
   "source": [
    "# reading the features of the training dataset\n",
    "x_train = pd.read_csv('example_data/train-features.txt', sep = \" \", header = None)\n",
    "x_train = x_train.to_numpy()\n",
    "# reading the label of the training dataset\n",
    "y_train = pd.read_csv('example_data/train-labels.txt', sep = '\\n', header = None)\n",
    "y_train = y_train[0].values.tolist()\n",
    "# reading the features of the test dataset\n",
    "x_test = pd.read_csv('example_data/test-features.txt', sep = \" \", header = None)\n",
    "x_test = x_test.to_numpy()\n",
    "# reading the labels of the test dataset\n",
    "y_test = pd.read_csv('example_data/test-labels.txt', sep = '\\n', header = None)\n",
    "y_test = y_test[0].values.tolist()\n",
    "\n",
    "print(\"dimensions of the training features dataset:\", x_train.shape)\n",
    "print(\"no. of emails in the training features = no. of emails in the training labels?\", len(y_train) == x_train.shape[0])\n",
    "print(\"dimensions of the test features dataset:\", x_test.shape)\n",
    "print(\"no. of emails in the test features = no. of emails in the test labels?\", len(y_test) == x_test.shape[0])"
   ]
  }
 ],
 "metadata": {
  "language_info": {
   "name": "python"
  },
  "orig_nbformat": 4
 },
 "nbformat": 4,
 "nbformat_minor": 2
}
