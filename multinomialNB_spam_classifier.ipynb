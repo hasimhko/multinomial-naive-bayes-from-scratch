{
 "cells": [
  {
   "cell_type": "code",
   "execution_count": 2,
   "metadata": {},
   "outputs": [],
   "source": [
    "# importing libraries\n",
    "import pandas as pd\n",
    "import numpy as np\n",
    "from collections import Counter"
   ]
  },
  {
   "cell_type": "code",
   "execution_count": 3,
   "metadata": {},
   "outputs": [
    {
     "name": "stdout",
     "output_type": "stream",
     "text": [
      "dimensions of the training features dataset: (700, 2500)\n",
      "no. of emails in the training features = no. of emails in the training labels? True\n",
      "dimensions of the test features dataset: (260, 2500)\n",
      "no. of emails in the test features = no. of emails in the test labels? True\n",
      "classes in the training dataset and their counts: {0: 350, 1: 350}\n",
      "classes in the training dataset and their counts: {0: 130, 1: 130}\n"
     ]
    }
   ],
   "source": [
    "# reading the features of the training dataset\n",
    "x_train = pd.read_csv('example_data/train-features.txt', sep = \" \", header = None)\n",
    "x_train = x_train.to_numpy()\n",
    "# reading the label of the training dataset\n",
    "y_train = pd.read_csv('example_data/train-labels.txt', sep = '\\n', header = None)\n",
    "y_train = y_train[0].values.tolist()\n",
    "# reading the features of the test dataset\n",
    "x_test = pd.read_csv('example_data/test-features.txt', sep = \" \", header = None)\n",
    "x_test = x_test.to_numpy()\n",
    "# reading the labels of the test dataset\n",
    "y_test = pd.read_csv('example_data/test-labels.txt', sep = '\\n', header = None)\n",
    "y_test = y_test[0].values.tolist()\n",
    "\n",
    "# checking dimensions of the dataset\n",
    "print(\"dimensions of the training features dataset:\", x_train.shape)\n",
    "print(\"no. of emails in the training features = no. of emails in the training labels?\", len(y_train) == x_train.shape[0])\n",
    "print(\"dimensions of the test features dataset:\", x_test.shape)\n",
    "print(\"no. of emails in the test features = no. of emails in the test labels?\", len(y_test) == x_test.shape[0])\n",
    "\n",
    "# checking the number of classes in the dataset and whether they are imbalanced\n",
    "print(\"classes in the training dataset and their counts:\", dict(Counter(y_train)))\n",
    "print(\"classes in the training dataset and their counts:\", dict(Counter(y_test)))"
   ]
  },
  {
   "cell_type": "code",
   "execution_count": 7,
   "metadata": {},
   "outputs": [
    {
     "name": "stdout",
     "output_type": "stream",
     "text": [
      "[0.00501152 0.00393762 0.00191434 0.01760256 0.00091826]\n",
      "[0.01468118 0.01015245 0.01233177 0.00018072 0.0112049 ]\n"
     ]
    }
   ],
   "source": [
    "def calc_cond_probs(x_train, dirichlet_alpha):\n",
    "    features_y0 = []\n",
    "    features_y1 = []\n",
    "    \n",
    "    # calculating the total number of words found in each class across all features\n",
    "    vocab_y0 = np.sum(x_train[:350,:])\n",
    "    vocab_y1 = np.sum(x_train[350:,:])\n",
    "\n",
    "    # calculating conditional probabilities for each feature for each class assuming a Dirichlet prior for smoothing\n",
    "    for i in range(x_train.shape[1]):\n",
    "            temp_y0_feat = (np.sum(x_train[:350, i]) + dirichlet_alpha)/(vocab_y0 + dirichlet_alpha*x_train.shape[1])\n",
    "            features_y0.append(temp_y0_feat)\n",
    "\n",
    "            temp_y1_feat = (np.sum(x_train[350:, i]) + dirichlet_alpha)/(vocab_y1 + dirichlet_alpha*x_train.shape[1])\n",
    "            features_y1.append(temp_y1_feat)\n",
    "\n",
    "    return np.array(features_y0), np.array(features_y1)\n",
    "\n",
    "# the the hyperparameter dirichlet_alpha was set to be 1\n",
    "# dirichlet_alpha is not yet optimized\n",
    "w_y0, w_y1 = calc_cond_probs(x_train, dirichlet_alpha=1)\n",
    "\n",
    "print(w_y0[:5])\n",
    "print(w_y1[:5])"
   ]
  }
 ],
 "metadata": {
  "interpreter": {
   "hash": "6d35480b5c1d294382b0e0921d54eccdfa53dc59be22530d71db640e0bbad820"
  },
  "kernelspec": {
   "display_name": "Python 3.9.2 64-bit",
   "language": "python",
   "name": "python3"
  },
  "language_info": {
   "codemirror_mode": {
    "name": "ipython",
    "version": 3
   },
   "file_extension": ".py",
   "mimetype": "text/x-python",
   "name": "python",
   "nbconvert_exporter": "python",
   "pygments_lexer": "ipython3",
   "version": "3.9.2"
  },
  "orig_nbformat": 4
 },
 "nbformat": 4,
 "nbformat_minor": 2
}
