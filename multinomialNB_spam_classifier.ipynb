{
 "cells": [
  {
   "cell_type": "code",
   "execution_count": null,
   "metadata": {},
   "outputs": [],
   "source": [
    "# importing libraries\n",
    "import pandas as pd\n",
    "import numpy as np\n",
    "import matplotlib.pyplot as plt"
   ]
  },
  {
   "cell_type": "code",
   "execution_count": null,
   "metadata": {},
   "outputs": [],
   "source": [
    "x_train = pd.read_csv('example_data/train-features.txt', sep = \" \", header = None)\n",
    "x_train = x_train.to_numpy()\n",
    "\n",
    "y_train = pd.read_csv('example_data/train-labels.txt', sep = '\\n', header = None)\n",
    "y_train = y_train[0].values.tolist()\n",
    "\n",
    "x_test = pd.read_csv('hw2_data_emails/test-features.txt', sep = \" \", header = None)\n",
    "x_test = x_test.to_numpy()\n",
    "\n",
    "y_test = pd.read_csv('hw2_data_emails/test-labels.txt', sep = '\\n', header = None)\n",
    "y_test = y_test[0].values.tolist()"
   ]
  }
 ],
 "metadata": {
  "language_info": {
   "name": "python"
  },
  "orig_nbformat": 4
 },
 "nbformat": 4,
 "nbformat_minor": 2
}
